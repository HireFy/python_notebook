{
 "cells": [
  {
   "cell_type": "code",
   "execution_count": 10,
   "metadata": {},
   "outputs": [],
   "source": [
    "import threading\n",
    "from time import sleep, time"
   ]
  },
  {
   "cell_type": "markdown",
   "metadata": {},
   "source": [
    "### 多线程模式"
   ]
  },
  {
   "cell_type": "code",
   "execution_count": 14,
   "metadata": {},
   "outputs": [
    {
     "name": "stdout",
     "output_type": "stream",
     "text": [
      "获得链接成功\n",
      "\n",
      "处理链接分析文本成功\n",
      "all done at : 3.005394!\n"
     ]
    }
   ],
   "source": [
    "def getHtml():\n",
    "    print(\"获得链接成功\\n\")\n",
    "    sleep(1)\n",
    "\n",
    "\n",
    "def processHtml():\n",
    "    print(\"处理链接分析文本成功\")\n",
    "    sleep(3)\n",
    "\n",
    "    \n",
    "def main():\n",
    "    threads = []\n",
    "    thread1 = threading.Thread(target=getHtml)\n",
    "    thread2 = threading.Thread(target=processHtml)\n",
    "    \n",
    "    threads.append(thread1)\n",
    "    threads.append(thread2)\n",
    "    \n",
    "    start_time = time()\n",
    "    for i in range(len(threads)):\n",
    "        threads[i].start()\n",
    "    \n",
    "    for i in range(len(threads)):\n",
    "        threads[i].join()\n",
    "    \n",
    "    end_time = time()\n",
    "    \n",
    "    print('all done at : %f!' % (end_time - start_time))\n",
    "\n",
    "main()"
   ]
  },
  {
   "cell_type": "markdown",
   "metadata": {},
   "source": [
    "### 普通模式"
   ]
  },
  {
   "cell_type": "code",
   "execution_count": 16,
   "metadata": {},
   "outputs": [
    {
     "name": "stdout",
     "output_type": "stream",
     "text": [
      "获得链接成功\n",
      "\n",
      "处理链接分析文本成功\n",
      "all done at : 4.006275!\n"
     ]
    }
   ],
   "source": [
    "def getHtml():\n",
    "    print(\"获得链接成功\\n\")\n",
    "    sleep(1)\n",
    "\n",
    "\n",
    "def processHtml():\n",
    "    print(\"处理链接分析文本成功\")\n",
    "    sleep(3)\n",
    "    \n",
    "def main():\n",
    "    start_time = time()\n",
    "    getHtml()\n",
    "    processHtml()\n",
    "    end_time = time()\n",
    "    print('all done at : %f!' % (end_time - start_time))\n",
    "\n",
    "main()"
   ]
  },
  {
   "cell_type": "markdown",
   "metadata": {},
   "source": [
    "#### 加入queue"
   ]
  },
  {
   "cell_type": "code",
   "execution_count": 17,
   "metadata": {},
   "outputs": [],
   "source": [
    "from queue import Queue"
   ]
  },
  {
   "cell_type": "code",
   "execution_count": 18,
   "metadata": {},
   "outputs": [],
   "source": [
    "q = Queue()"
   ]
  },
  {
   "cell_type": "code",
   "execution_count": 45,
   "metadata": {},
   "outputs": [
    {
     "name": "stdout",
     "output_type": "stream",
     "text": [
      "生成一个object...\n",
      "抽取一个object...\n",
      "生成object后队列大小: 1\n",
      "生成一个object...\n",
      "抽取后队列的大小: 0\n",
      "抽取一个object...\n",
      "生成object后队列大小: 1\n",
      "生成一个object...\n",
      "生成object后队列大小: 2\n",
      "生成一个object...\n",
      "抽取后队列的大小: 1\n",
      "抽取一个object...\n",
      "生成object后队列大小: 2\n",
      "生成一个object...\n",
      "抽取后队列的大小: 1\n",
      "抽取一个object...\n",
      "生成object后队列大小: 2\n",
      "抽取后队列的大小: 1\n",
      "抽取一个object...\n",
      "抽取后队列的大小: 0\n",
      "Finish at : 15.022831!\n"
     ]
    }
   ],
   "source": [
    "def genObject():\n",
    "    print('生成一个object...')\n",
    "    sleep(2)\n",
    "    q.put('a object')\n",
    "    print('生成object后队列大小:', q.qsize())\n",
    "\n",
    "\n",
    "def getObject():\n",
    "    print('抽取一个object...')\n",
    "    sleep(3)\n",
    "    q.get()\n",
    "    print('抽取后队列的大小:', q.qsize())\n",
    "    \n",
    "    \n",
    "def genLoop(x):\n",
    "    for i in range(x):\n",
    "        genObject()\n",
    "\n",
    "\n",
    "def getLoop(x):\n",
    "    for i in range(x):\n",
    "        getObject()\n",
    "\n",
    "\n",
    "def main():\n",
    "    threads = []\n",
    "    \n",
    "    thread1 = threading.Thread(target=genLoop, args=(5,))\n",
    "    thread2 = threading.Thread(target=getLoop, args=(5,))\n",
    "    \n",
    "    threads.append(thread1)\n",
    "    threads.append(thread2)\n",
    "    \n",
    "    start_time = time()\n",
    "    for i in range(len(threads)):\n",
    "        threads[i].start()\n",
    "        \n",
    "    for i in range(len(threads)):\n",
    "        threads[i].join()\n",
    "        \n",
    "    print(\"Finish at : %f!\" % (time() - start_time))\n",
    "    \n",
    "\n",
    "main()"
   ]
  },
  {
   "cell_type": "markdown",
   "metadata": {},
   "source": [
    "#### 加入queue的普通模式"
   ]
  },
  {
   "cell_type": "code",
   "execution_count": 46,
   "metadata": {},
   "outputs": [
    {
     "name": "stdout",
     "output_type": "stream",
     "text": [
      "生成一个object...\n",
      "生成object后队列大小: 1\n",
      "抽取一个object...\n",
      "抽取后队列的大小: 0\n",
      "生成一个object...\n",
      "生成object后队列大小: 1\n",
      "抽取一个object...\n",
      "抽取后队列的大小: 0\n",
      "生成一个object...\n",
      "生成object后队列大小: 1\n",
      "抽取一个object...\n",
      "抽取后队列的大小: 0\n",
      "生成一个object...\n",
      "生成object后队列大小: 1\n",
      "抽取一个object...\n",
      "抽取后队列的大小: 0\n",
      "生成一个object...\n",
      "生成object后队列大小: 1\n",
      "抽取一个object...\n",
      "抽取后队列的大小: 0\n",
      "finish at : 25.030123!\n"
     ]
    }
   ],
   "source": [
    "q = Queue()\n",
    "\n",
    "def genObject():\n",
    "    print('生成一个object...')\n",
    "    sleep(2)\n",
    "    q.put('a object')\n",
    "    print('生成object后队列大小:', q.qsize())\n",
    "\n",
    "\n",
    "def getObject():\n",
    "    print('抽取一个object...')\n",
    "    sleep(3)\n",
    "    q.get()\n",
    "    print('抽取后队列的大小:', q.qsize())\n",
    "    \n",
    "    \n",
    "def genLoop(x):\n",
    "    for i in range(x):\n",
    "        genObject()\n",
    "\n",
    "\n",
    "def getLoop(x):\n",
    "    for i in range(x):\n",
    "        getObject()\n",
    "\n",
    "\n",
    "def main():\n",
    "    start_time = time()\n",
    "    for i in range(5):\n",
    "        genObject()\n",
    "        getObject()\n",
    "    print('finish at : %f!' % (time() - start_time))\n",
    "    \n",
    "\n",
    "main()"
   ]
  },
  {
   "cell_type": "raw",
   "metadata": {},
   "source": [
    "从上面的结果来看，当生成object和获取object的时间几乎相同的时候，也就是没有sleep函数的影响的时候，单线程和多线程的速度几乎一样，甚至单线程还要比多线程快上一点\n",
    "\n",
    "不过当加入了sleep函数模拟程序在实际运行的时候可能产生的阻塞时，会发现多线程的优点渐渐体现出来，当阻塞情况越严重，多线程处理的速度就相比单线程处理的速度大幅提升！"
   ]
  },
  {
   "cell_type": "code",
   "execution_count": null,
   "metadata": {},
   "outputs": [],
   "source": []
  }
 ],
 "metadata": {
  "kernelspec": {
   "display_name": "Python 3",
   "language": "python",
   "name": "python3"
  },
  "language_info": {
   "codemirror_mode": {
    "name": "ipython",
    "version": 3
   },
   "file_extension": ".py",
   "mimetype": "text/x-python",
   "name": "python",
   "nbconvert_exporter": "python",
   "pygments_lexer": "ipython3",
   "version": "3.6.6"
  }
 },
 "nbformat": 4,
 "nbformat_minor": 2
}
