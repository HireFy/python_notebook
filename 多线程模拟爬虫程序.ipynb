{
 "cells": [
  {
   "cell_type": "raw",
   "metadata": {},
   "source": [
    "多线程模拟爬虫程序"
   ]
  },
  {
   "cell_type": "code",
   "execution_count": 1,
   "metadata": {},
   "outputs": [],
   "source": [
    "from time import time, sleep\n",
    "import threading"
   ]
  },
  {
   "cell_type": "code",
   "execution_count": 17,
   "metadata": {},
   "outputs": [
    {
     "name": "stdout",
     "output_type": "stream",
     "text": [
      "pack_tag处理完成\n",
      "pack_tag处理完成\n",
      "pack_tag处理完成\n",
      "pack_tag处理完成\n",
      "pack_tag处理完成\n",
      "pack_tag处理完成\n",
      "pack_tag处理完成\n",
      "pack_tag处理完成\n",
      "pack_tag处理完成\n",
      "pack_tag处理完成\n",
      "现在所用的时间 50.043293952941895\n"
     ]
    }
   ],
   "source": [
    "def handle_single():\n",
    "    \"\"\"爬取单页数据\"\"\"\n",
    "    pack_tag()\n",
    "\n",
    "\n",
    "# 爬虫中最耗时的部分\n",
    "def pack_tag():\n",
    "    \"\"\"把jobObejct的tag组装好\"\"\"\n",
    "    sleep(5)\n",
    "    print('pack_tag处理完成')\n",
    "    \n",
    "\n",
    "def main():\n",
    "    start = time()\n",
    "    for i in range(10):\n",
    "        handle_single()\n",
    "    print('现在所用的时间', time()-start)\n",
    "    \n",
    "    \n",
    "main()"
   ]
  },
  {
   "cell_type": "code",
   "execution_count": 18,
   "metadata": {},
   "outputs": [
    {
     "name": "stdout",
     "output_type": "stream",
     "text": [
      "Thread-41pack_tag处理完成Thread-42pack_tag处理完成\n",
      "Thread-43pack_tag处理完成\n",
      "Thread-46pack_tag处理完成\n",
      "Thread-45pack_tag处理完成\n",
      "Thread-47pack_tag处理完成\n",
      "Thread-44pack_tag处理完成\n",
      "\n",
      "Thread-48pack_tag处理完成\n",
      "Thread-50pack_tag处理完成\n",
      "Thread-49pack_tag处理完成\n",
      "现在所用的时间 5.025583744049072\n"
     ]
    }
   ],
   "source": [
    "def handle_single():\n",
    "    \"\"\"爬取单页数据\"\"\"\n",
    "    pack_tag()\n",
    "    print(threading.current_thread().name + 'pack_tag处理完成')\n",
    "\n",
    "# 爬虫中最耗时的部分\n",
    "def pack_tag():\n",
    "    \"\"\"把jobObejct的tag组装好\"\"\"\n",
    "    sleep(5)\n",
    "    \n",
    "    \n",
    "\n",
    "def main():\n",
    "    \n",
    "#     for i in range(3):\n",
    "#         handle_single()\n",
    "        \n",
    "    threads = []\n",
    "    \n",
    "    for i in range(10):\n",
    "        thread = threading.Thread(target=handle_single)\n",
    "        threads.append(thread)\n",
    "    \n",
    "    start = time()\n",
    "    for thread in threads:\n",
    "        thread.start()\n",
    "    \n",
    "    for thread in threads:\n",
    "        thread.join()\n",
    "        \n",
    "    print('现在所用的时间', time()-start)\n",
    "    \n",
    "    \n",
    "main()"
   ]
  },
  {
   "cell_type": "code",
   "execution_count": null,
   "metadata": {},
   "outputs": [],
   "source": []
  }
 ],
 "metadata": {
  "kernelspec": {
   "display_name": "Python 3",
   "language": "python",
   "name": "python3"
  },
  "language_info": {
   "codemirror_mode": {
    "name": "ipython",
    "version": 3
   },
   "file_extension": ".py",
   "mimetype": "text/x-python",
   "name": "python",
   "nbconvert_exporter": "python",
   "pygments_lexer": "ipython3",
   "version": "3.6.6"
  }
 },
 "nbformat": 4,
 "nbformat_minor": 2
}
